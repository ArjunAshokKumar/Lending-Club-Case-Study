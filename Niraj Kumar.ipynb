{
 "cells": [
  {
   "cell_type": "markdown",
   "metadata": {},
   "source": [
    "# Lending Club Case Study"
   ]
  },
  {
   "cell_type": "markdown",
   "metadata": {},
   "source": [
    "## Import packages"
   ]
  },
  {
   "cell_type": "code",
   "execution_count": 1015,
   "metadata": {},
   "outputs": [],
   "source": [
    "#Import necessary packages\n",
    "import chardet\n",
    "import pandas as pd\n",
    "import numpy as np\n",
    "import matplotlib.pyplot as plt\n",
    "import seaborn as sns\n"
   ]
  },
  {
   "cell_type": "markdown",
   "metadata": {},
   "source": [
    "## Load dataset"
   ]
  },
  {
   "cell_type": "code",
   "execution_count": 1016,
   "metadata": {},
   "outputs": [
    {
     "name": "stdout",
     "output_type": "stream",
     "text": [
      "{'encoding': 'ascii', 'confidence': 1.0, 'language': ''}\n"
     ]
    }
   ],
   "source": [
    "#check the encoding of input data:\n",
    "with open('loan.csv','rb') as raw_data:\n",
    "    result = chardet.detect(raw_data.read(2000))\n",
    "print(result)"
   ]
  },
  {
   "cell_type": "code",
   "execution_count": 1017,
   "metadata": {},
   "outputs": [],
   "source": [
    "#load the loan dataset\n",
    "loan_data = pd.read_csv('loan.csv',dtype='unicode')"
   ]
  },
  {
   "cell_type": "code",
   "execution_count": 1018,
   "metadata": {},
   "outputs": [
    {
     "data": {
      "text/html": [
       "<div>\n",
       "<style scoped>\n",
       "    .dataframe tbody tr th:only-of-type {\n",
       "        vertical-align: middle;\n",
       "    }\n",
       "\n",
       "    .dataframe tbody tr th {\n",
       "        vertical-align: top;\n",
       "    }\n",
       "\n",
       "    .dataframe thead th {\n",
       "        text-align: right;\n",
       "    }\n",
       "</style>\n",
       "<table border=\"1\" class=\"dataframe\">\n",
       "  <thead>\n",
       "    <tr style=\"text-align: right;\">\n",
       "      <th></th>\n",
       "      <th>id</th>\n",
       "      <th>member_id</th>\n",
       "      <th>loan_amnt</th>\n",
       "      <th>funded_amnt</th>\n",
       "      <th>funded_amnt_inv</th>\n",
       "      <th>term</th>\n",
       "      <th>int_rate</th>\n",
       "      <th>installment</th>\n",
       "      <th>grade</th>\n",
       "      <th>sub_grade</th>\n",
       "      <th>...</th>\n",
       "      <th>num_tl_90g_dpd_24m</th>\n",
       "      <th>num_tl_op_past_12m</th>\n",
       "      <th>pct_tl_nvr_dlq</th>\n",
       "      <th>percent_bc_gt_75</th>\n",
       "      <th>pub_rec_bankruptcies</th>\n",
       "      <th>tax_liens</th>\n",
       "      <th>tot_hi_cred_lim</th>\n",
       "      <th>total_bal_ex_mort</th>\n",
       "      <th>total_bc_limit</th>\n",
       "      <th>total_il_high_credit_limit</th>\n",
       "    </tr>\n",
       "  </thead>\n",
       "  <tbody>\n",
       "    <tr>\n",
       "      <th>0</th>\n",
       "      <td>1077501</td>\n",
       "      <td>1296599</td>\n",
       "      <td>5000</td>\n",
       "      <td>5000</td>\n",
       "      <td>4975</td>\n",
       "      <td>36 months</td>\n",
       "      <td>10.65%</td>\n",
       "      <td>162.87</td>\n",
       "      <td>B</td>\n",
       "      <td>B2</td>\n",
       "      <td>...</td>\n",
       "      <td>NaN</td>\n",
       "      <td>NaN</td>\n",
       "      <td>NaN</td>\n",
       "      <td>NaN</td>\n",
       "      <td>0</td>\n",
       "      <td>0</td>\n",
       "      <td>NaN</td>\n",
       "      <td>NaN</td>\n",
       "      <td>NaN</td>\n",
       "      <td>NaN</td>\n",
       "    </tr>\n",
       "    <tr>\n",
       "      <th>1</th>\n",
       "      <td>1077430</td>\n",
       "      <td>1314167</td>\n",
       "      <td>2500</td>\n",
       "      <td>2500</td>\n",
       "      <td>2500</td>\n",
       "      <td>60 months</td>\n",
       "      <td>15.27%</td>\n",
       "      <td>59.83</td>\n",
       "      <td>C</td>\n",
       "      <td>C4</td>\n",
       "      <td>...</td>\n",
       "      <td>NaN</td>\n",
       "      <td>NaN</td>\n",
       "      <td>NaN</td>\n",
       "      <td>NaN</td>\n",
       "      <td>0</td>\n",
       "      <td>0</td>\n",
       "      <td>NaN</td>\n",
       "      <td>NaN</td>\n",
       "      <td>NaN</td>\n",
       "      <td>NaN</td>\n",
       "    </tr>\n",
       "    <tr>\n",
       "      <th>2</th>\n",
       "      <td>1077175</td>\n",
       "      <td>1313524</td>\n",
       "      <td>2400</td>\n",
       "      <td>2400</td>\n",
       "      <td>2400</td>\n",
       "      <td>36 months</td>\n",
       "      <td>15.96%</td>\n",
       "      <td>84.33</td>\n",
       "      <td>C</td>\n",
       "      <td>C5</td>\n",
       "      <td>...</td>\n",
       "      <td>NaN</td>\n",
       "      <td>NaN</td>\n",
       "      <td>NaN</td>\n",
       "      <td>NaN</td>\n",
       "      <td>0</td>\n",
       "      <td>0</td>\n",
       "      <td>NaN</td>\n",
       "      <td>NaN</td>\n",
       "      <td>NaN</td>\n",
       "      <td>NaN</td>\n",
       "    </tr>\n",
       "    <tr>\n",
       "      <th>3</th>\n",
       "      <td>1076863</td>\n",
       "      <td>1277178</td>\n",
       "      <td>10000</td>\n",
       "      <td>10000</td>\n",
       "      <td>10000</td>\n",
       "      <td>36 months</td>\n",
       "      <td>13.49%</td>\n",
       "      <td>339.31</td>\n",
       "      <td>C</td>\n",
       "      <td>C1</td>\n",
       "      <td>...</td>\n",
       "      <td>NaN</td>\n",
       "      <td>NaN</td>\n",
       "      <td>NaN</td>\n",
       "      <td>NaN</td>\n",
       "      <td>0</td>\n",
       "      <td>0</td>\n",
       "      <td>NaN</td>\n",
       "      <td>NaN</td>\n",
       "      <td>NaN</td>\n",
       "      <td>NaN</td>\n",
       "    </tr>\n",
       "    <tr>\n",
       "      <th>4</th>\n",
       "      <td>1075358</td>\n",
       "      <td>1311748</td>\n",
       "      <td>3000</td>\n",
       "      <td>3000</td>\n",
       "      <td>3000</td>\n",
       "      <td>60 months</td>\n",
       "      <td>12.69%</td>\n",
       "      <td>67.79</td>\n",
       "      <td>B</td>\n",
       "      <td>B5</td>\n",
       "      <td>...</td>\n",
       "      <td>NaN</td>\n",
       "      <td>NaN</td>\n",
       "      <td>NaN</td>\n",
       "      <td>NaN</td>\n",
       "      <td>0</td>\n",
       "      <td>0</td>\n",
       "      <td>NaN</td>\n",
       "      <td>NaN</td>\n",
       "      <td>NaN</td>\n",
       "      <td>NaN</td>\n",
       "    </tr>\n",
       "  </tbody>\n",
       "</table>\n",
       "<p>5 rows × 111 columns</p>\n",
       "</div>"
      ],
      "text/plain": [
       "        id member_id loan_amnt funded_amnt funded_amnt_inv        term  \\\n",
       "0  1077501   1296599      5000        5000            4975   36 months   \n",
       "1  1077430   1314167      2500        2500            2500   60 months   \n",
       "2  1077175   1313524      2400        2400            2400   36 months   \n",
       "3  1076863   1277178     10000       10000           10000   36 months   \n",
       "4  1075358   1311748      3000        3000            3000   60 months   \n",
       "\n",
       "  int_rate installment grade sub_grade  ... num_tl_90g_dpd_24m  \\\n",
       "0   10.65%      162.87     B        B2  ...                NaN   \n",
       "1   15.27%       59.83     C        C4  ...                NaN   \n",
       "2   15.96%       84.33     C        C5  ...                NaN   \n",
       "3   13.49%      339.31     C        C1  ...                NaN   \n",
       "4   12.69%       67.79     B        B5  ...                NaN   \n",
       "\n",
       "  num_tl_op_past_12m pct_tl_nvr_dlq percent_bc_gt_75 pub_rec_bankruptcies  \\\n",
       "0                NaN            NaN              NaN                    0   \n",
       "1                NaN            NaN              NaN                    0   \n",
       "2                NaN            NaN              NaN                    0   \n",
       "3                NaN            NaN              NaN                    0   \n",
       "4                NaN            NaN              NaN                    0   \n",
       "\n",
       "  tax_liens tot_hi_cred_lim total_bal_ex_mort total_bc_limit  \\\n",
       "0         0             NaN               NaN            NaN   \n",
       "1         0             NaN               NaN            NaN   \n",
       "2         0             NaN               NaN            NaN   \n",
       "3         0             NaN               NaN            NaN   \n",
       "4         0             NaN               NaN            NaN   \n",
       "\n",
       "  total_il_high_credit_limit  \n",
       "0                        NaN  \n",
       "1                        NaN  \n",
       "2                        NaN  \n",
       "3                        NaN  \n",
       "4                        NaN  \n",
       "\n",
       "[5 rows x 111 columns]"
      ]
     },
     "execution_count": 1018,
     "metadata": {},
     "output_type": "execute_result"
    }
   ],
   "source": [
    "loan_data.head()"
   ]
  },
  {
   "cell_type": "code",
   "execution_count": 1019,
   "metadata": {},
   "outputs": [
    {
     "data": {
      "text/plain": [
       "(39717, 111)"
      ]
     },
     "execution_count": 1019,
     "metadata": {},
     "output_type": "execute_result"
    }
   ],
   "source": [
    "loan_data.shape"
   ]
  },
  {
   "cell_type": "markdown",
   "metadata": {},
   "source": [
    "## Data cleaning"
   ]
  },
  {
   "cell_type": "markdown",
   "metadata": {},
   "source": [
    "### Removing unnecessary and null columns"
   ]
  },
  {
   "cell_type": "code",
   "execution_count": 1020,
   "metadata": {},
   "outputs": [
    {
     "data": {
      "text/plain": [
       "id                                    0\n",
       "member_id                             0\n",
       "loan_amnt                             0\n",
       "funded_amnt                           0\n",
       "funded_amnt_inv                       0\n",
       "term                                  0\n",
       "int_rate                              0\n",
       "installment                           0\n",
       "grade                                 0\n",
       "sub_grade                             0\n",
       "emp_title                          2459\n",
       "emp_length                         1075\n",
       "home_ownership                        0\n",
       "annual_inc                            0\n",
       "verification_status                   0\n",
       "issue_d                               0\n",
       "loan_status                           0\n",
       "pymnt_plan                            0\n",
       "url                                   0\n",
       "desc                              12940\n",
       "purpose                               0\n",
       "title                                11\n",
       "zip_code                              0\n",
       "addr_state                            0\n",
       "dti                                   0\n",
       "delinq_2yrs                           0\n",
       "earliest_cr_line                      0\n",
       "inq_last_6mths                        0\n",
       "mths_since_last_delinq            25682\n",
       "mths_since_last_record            36931\n",
       "open_acc                              0\n",
       "pub_rec                               0\n",
       "revol_bal                             0\n",
       "revol_util                           50\n",
       "total_acc                             0\n",
       "initial_list_status                   0\n",
       "out_prncp                             0\n",
       "out_prncp_inv                         0\n",
       "total_pymnt                           0\n",
       "total_pymnt_inv                       0\n",
       "total_rec_prncp                       0\n",
       "total_rec_int                         0\n",
       "total_rec_late_fee                    0\n",
       "recoveries                            0\n",
       "collection_recovery_fee               0\n",
       "last_pymnt_d                         71\n",
       "last_pymnt_amnt                       0\n",
       "next_pymnt_d                      38577\n",
       "last_credit_pull_d                    2\n",
       "collections_12_mths_ex_med           56\n",
       "mths_since_last_major_derog       39717\n",
       "policy_code                           0\n",
       "application_type                      0\n",
       "annual_inc_joint                  39717\n",
       "dti_joint                         39717\n",
       "verification_status_joint         39717\n",
       "acc_now_delinq                        0\n",
       "tot_coll_amt                      39717\n",
       "tot_cur_bal                       39717\n",
       "open_acc_6m                       39717\n",
       "open_il_6m                        39717\n",
       "open_il_12m                       39717\n",
       "open_il_24m                       39717\n",
       "mths_since_rcnt_il                39717\n",
       "total_bal_il                      39717\n",
       "il_util                           39717\n",
       "open_rv_12m                       39717\n",
       "open_rv_24m                       39717\n",
       "max_bal_bc                        39717\n",
       "all_util                          39717\n",
       "total_rev_hi_lim                  39717\n",
       "inq_fi                            39717\n",
       "total_cu_tl                       39717\n",
       "inq_last_12m                      39717\n",
       "acc_open_past_24mths              39717\n",
       "avg_cur_bal                       39717\n",
       "bc_open_to_buy                    39717\n",
       "bc_util                           39717\n",
       "chargeoff_within_12_mths             56\n",
       "delinq_amnt                           0\n",
       "mo_sin_old_il_acct                39717\n",
       "mo_sin_old_rev_tl_op              39717\n",
       "mo_sin_rcnt_rev_tl_op             39717\n",
       "mo_sin_rcnt_tl                    39717\n",
       "mort_acc                          39717\n",
       "mths_since_recent_bc              39717\n",
       "mths_since_recent_bc_dlq          39717\n",
       "mths_since_recent_inq             39717\n",
       "mths_since_recent_revol_delinq    39717\n",
       "num_accts_ever_120_pd             39717\n",
       "num_actv_bc_tl                    39717\n",
       "num_actv_rev_tl                   39717\n",
       "num_bc_sats                       39717\n",
       "num_bc_tl                         39717\n",
       "num_il_tl                         39717\n",
       "num_op_rev_tl                     39717\n",
       "num_rev_accts                     39717\n",
       "num_rev_tl_bal_gt_0               39717\n",
       "num_sats                          39717\n",
       "num_tl_120dpd_2m                  39717\n",
       "num_tl_30dpd                      39717\n",
       "num_tl_90g_dpd_24m                39717\n",
       "num_tl_op_past_12m                39717\n",
       "pct_tl_nvr_dlq                    39717\n",
       "percent_bc_gt_75                  39717\n",
       "pub_rec_bankruptcies                697\n",
       "tax_liens                            39\n",
       "tot_hi_cred_lim                   39717\n",
       "total_bal_ex_mort                 39717\n",
       "total_bc_limit                    39717\n",
       "total_il_high_credit_limit        39717\n",
       "dtype: int64"
      ]
     },
     "execution_count": 1020,
     "metadata": {},
     "output_type": "execute_result"
    }
   ],
   "source": [
    "loan_data.isnull().sum()"
   ]
  },
  {
   "cell_type": "markdown",
   "metadata": {},
   "source": [
    "There are columns with many Null values. We can drop these rows as they won't be of use to us in the analysis. We will drop rows that contain more that 80 percent as null values."
   ]
  },
  {
   "cell_type": "code",
   "execution_count": 1021,
   "metadata": {},
   "outputs": [
    {
     "data": {
      "text/plain": [
       "id                                  0.000000\n",
       "member_id                           0.000000\n",
       "loan_amnt                           0.000000\n",
       "funded_amnt                         0.000000\n",
       "funded_amnt_inv                     0.000000\n",
       "term                                0.000000\n",
       "int_rate                            0.000000\n",
       "installment                         0.000000\n",
       "grade                               0.000000\n",
       "sub_grade                           0.000000\n",
       "emp_title                           6.191303\n",
       "emp_length                          2.706650\n",
       "home_ownership                      0.000000\n",
       "annual_inc                          0.000000\n",
       "verification_status                 0.000000\n",
       "issue_d                             0.000000\n",
       "loan_status                         0.000000\n",
       "pymnt_plan                          0.000000\n",
       "url                                 0.000000\n",
       "desc                               32.580507\n",
       "purpose                             0.000000\n",
       "title                               0.027696\n",
       "zip_code                            0.000000\n",
       "addr_state                          0.000000\n",
       "dti                                 0.000000\n",
       "delinq_2yrs                         0.000000\n",
       "earliest_cr_line                    0.000000\n",
       "inq_last_6mths                      0.000000\n",
       "mths_since_last_delinq             64.662487\n",
       "mths_since_last_record             92.985372\n",
       "open_acc                            0.000000\n",
       "pub_rec                             0.000000\n",
       "revol_bal                           0.000000\n",
       "revol_util                          0.125891\n",
       "total_acc                           0.000000\n",
       "initial_list_status                 0.000000\n",
       "out_prncp                           0.000000\n",
       "out_prncp_inv                       0.000000\n",
       "total_pymnt                         0.000000\n",
       "total_pymnt_inv                     0.000000\n",
       "total_rec_prncp                     0.000000\n",
       "total_rec_int                       0.000000\n",
       "total_rec_late_fee                  0.000000\n",
       "recoveries                          0.000000\n",
       "collection_recovery_fee             0.000000\n",
       "last_pymnt_d                        0.178765\n",
       "last_pymnt_amnt                     0.000000\n",
       "next_pymnt_d                       97.129693\n",
       "last_credit_pull_d                  0.005036\n",
       "collections_12_mths_ex_med          0.140998\n",
       "mths_since_last_major_derog       100.000000\n",
       "policy_code                         0.000000\n",
       "application_type                    0.000000\n",
       "annual_inc_joint                  100.000000\n",
       "dti_joint                         100.000000\n",
       "verification_status_joint         100.000000\n",
       "acc_now_delinq                      0.000000\n",
       "tot_coll_amt                      100.000000\n",
       "tot_cur_bal                       100.000000\n",
       "open_acc_6m                       100.000000\n",
       "open_il_6m                        100.000000\n",
       "open_il_12m                       100.000000\n",
       "open_il_24m                       100.000000\n",
       "mths_since_rcnt_il                100.000000\n",
       "total_bal_il                      100.000000\n",
       "il_util                           100.000000\n",
       "open_rv_12m                       100.000000\n",
       "open_rv_24m                       100.000000\n",
       "max_bal_bc                        100.000000\n",
       "all_util                          100.000000\n",
       "total_rev_hi_lim                  100.000000\n",
       "inq_fi                            100.000000\n",
       "total_cu_tl                       100.000000\n",
       "inq_last_12m                      100.000000\n",
       "acc_open_past_24mths              100.000000\n",
       "avg_cur_bal                       100.000000\n",
       "bc_open_to_buy                    100.000000\n",
       "bc_util                           100.000000\n",
       "chargeoff_within_12_mths            0.140998\n",
       "delinq_amnt                         0.000000\n",
       "mo_sin_old_il_acct                100.000000\n",
       "mo_sin_old_rev_tl_op              100.000000\n",
       "mo_sin_rcnt_rev_tl_op             100.000000\n",
       "mo_sin_rcnt_tl                    100.000000\n",
       "mort_acc                          100.000000\n",
       "mths_since_recent_bc              100.000000\n",
       "mths_since_recent_bc_dlq          100.000000\n",
       "mths_since_recent_inq             100.000000\n",
       "mths_since_recent_revol_delinq    100.000000\n",
       "num_accts_ever_120_pd             100.000000\n",
       "num_actv_bc_tl                    100.000000\n",
       "num_actv_rev_tl                   100.000000\n",
       "num_bc_sats                       100.000000\n",
       "num_bc_tl                         100.000000\n",
       "num_il_tl                         100.000000\n",
       "num_op_rev_tl                     100.000000\n",
       "num_rev_accts                     100.000000\n",
       "num_rev_tl_bal_gt_0               100.000000\n",
       "num_sats                          100.000000\n",
       "num_tl_120dpd_2m                  100.000000\n",
       "num_tl_30dpd                      100.000000\n",
       "num_tl_90g_dpd_24m                100.000000\n",
       "num_tl_op_past_12m                100.000000\n",
       "pct_tl_nvr_dlq                    100.000000\n",
       "percent_bc_gt_75                  100.000000\n",
       "pub_rec_bankruptcies                1.754916\n",
       "tax_liens                           0.098195\n",
       "tot_hi_cred_lim                   100.000000\n",
       "total_bal_ex_mort                 100.000000\n",
       "total_bc_limit                    100.000000\n",
       "total_il_high_credit_limit        100.000000\n",
       "dtype: float64"
      ]
     },
     "execution_count": 1021,
     "metadata": {},
     "output_type": "execute_result"
    }
   ],
   "source": [
    "null_percent = loan_data.isnull().sum() * 100 / len(loan_data)\n",
    "null_percent"
   ]
  },
  {
   "cell_type": "code",
   "execution_count": 1022,
   "metadata": {},
   "outputs": [
    {
     "data": {
      "text/plain": [
       "56"
      ]
     },
     "execution_count": 1022,
     "metadata": {},
     "output_type": "execute_result"
    }
   ],
   "source": [
    "#Get the columns that does has more than 80% null values. \n",
    "null_percent_df = pd.DataFrame({'column_name': loan_data.columns,\n",
    "                               'null_percent': null_percent.round(2)})\n",
    "(null_percent_df.null_percent > 80).sum()"
   ]
  },
  {
   "cell_type": "markdown",
   "metadata": {},
   "source": [
    "There seems to be 56 columns with percent of null values exceeding 80 percent. We can drop these columns."
   ]
  },
  {
   "cell_type": "code",
   "execution_count": 1023,
   "metadata": {},
   "outputs": [
    {
     "data": {
      "text/plain": [
       "(39717, 55)"
      ]
     },
     "execution_count": 1023,
     "metadata": {},
     "output_type": "execute_result"
    }
   ],
   "source": [
    "#get the column names to be dropped.\n",
    "columns_to_drop = null_percent_df[null_percent_df.null_percent > 80].column_name.tolist()\n",
    "master_frame = loan_data.drop(columns_to_drop, axis = 1)\n",
    "master_frame.shape"
   ]
  },
  {
   "cell_type": "code",
   "execution_count": 1024,
   "metadata": {},
   "outputs": [
    {
     "data": {
      "text/plain": [
       "emp_title                      6.191303\n",
       "emp_length                     2.706650\n",
       "desc                          32.580507\n",
       "title                          0.027696\n",
       "mths_since_last_delinq        64.662487\n",
       "revol_util                     0.125891\n",
       "last_pymnt_d                   0.178765\n",
       "last_credit_pull_d             0.005036\n",
       "collections_12_mths_ex_med     0.140998\n",
       "chargeoff_within_12_mths       0.140998\n",
       "pub_rec_bankruptcies           1.754916\n",
       "tax_liens                      0.098195\n",
       "dtype: float64"
      ]
     },
     "execution_count": 1024,
     "metadata": {},
     "output_type": "execute_result"
    }
   ],
   "source": [
    "#checking the percent of null after removal of null columns\n",
    "new_null_percent = master_frame.isnull().sum() * 100 / len(master_frame)\n",
    "new_null_percent[new_null_percent>0]"
   ]
  },
  {
   "cell_type": "code",
   "execution_count": 1025,
   "metadata": {},
   "outputs": [
    {
     "data": {
      "text/plain": [
       "0    39661\n",
       "Name: chargeoff_within_12_mths, dtype: int64"
      ]
     },
     "execution_count": 1025,
     "metadata": {},
     "output_type": "execute_result"
    }
   ],
   "source": [
    "master_frame['chargeoff_within_12_mths'].value_counts()"
   ]
  },
  {
   "cell_type": "code",
   "execution_count": 1026,
   "metadata": {},
   "outputs": [
    {
     "data": {
      "text/plain": [
       "0    39678\n",
       "Name: tax_liens, dtype: int64"
      ]
     },
     "execution_count": 1026,
     "metadata": {},
     "output_type": "execute_result"
    }
   ],
   "source": [
    "master_frame['tax_liens'].value_counts()"
   ]
  },
  {
   "cell_type": "code",
   "execution_count": 1027,
   "metadata": {},
   "outputs": [
    {
     "data": {
      "text/plain": [
       "0    39661\n",
       "Name: collections_12_mths_ex_med, dtype: int64"
      ]
     },
     "execution_count": 1027,
     "metadata": {},
     "output_type": "execute_result"
    }
   ],
   "source": [
    "master_frame['collections_12_mths_ex_med'].value_counts()"
   ]
  },
  {
   "cell_type": "code",
   "execution_count": 1028,
   "metadata": {},
   "outputs": [
    {
     "data": {
      "text/plain": [
       "1    39717\n",
       "Name: policy_code, dtype: int64"
      ]
     },
     "execution_count": 1028,
     "metadata": {},
     "output_type": "execute_result"
    }
   ],
   "source": [
    "master_frame['policy_code'].value_counts()"
   ]
  },
  {
   "cell_type": "code",
   "execution_count": 1029,
   "metadata": {},
   "outputs": [
    {
     "data": {
      "text/plain": [
       "n    39717\n",
       "Name: pymnt_plan, dtype: int64"
      ]
     },
     "execution_count": 1029,
     "metadata": {},
     "output_type": "execute_result"
    }
   ],
   "source": [
    "master_frame['pymnt_plan'].value_counts()"
   ]
  },
  {
   "cell_type": "code",
   "execution_count": 1030,
   "metadata": {},
   "outputs": [
    {
     "data": {
      "text/plain": [
       "0    39717\n",
       "Name: delinq_amnt, dtype: int64"
      ]
     },
     "execution_count": 1030,
     "metadata": {},
     "output_type": "execute_result"
    }
   ],
   "source": [
    "master_frame['delinq_amnt'].value_counts()"
   ]
  },
  {
   "cell_type": "code",
   "execution_count": 1031,
   "metadata": {},
   "outputs": [
    {
     "data": {
      "text/plain": [
       "0    39717\n",
       "Name: acc_now_delinq, dtype: int64"
      ]
     },
     "execution_count": 1031,
     "metadata": {},
     "output_type": "execute_result"
    }
   ],
   "source": [
    "master_frame['acc_now_delinq'].value_counts()"
   ]
  },
  {
   "cell_type": "code",
   "execution_count": 1032,
   "metadata": {},
   "outputs": [
    {
     "data": {
      "text/plain": [
       "INDIVIDUAL    39717\n",
       "Name: application_type, dtype: int64"
      ]
     },
     "execution_count": 1032,
     "metadata": {},
     "output_type": "execute_result"
    }
   ],
   "source": [
    "master_frame['application_type'].value_counts()"
   ]
  },
  {
   "cell_type": "code",
   "execution_count": 1033,
   "metadata": {},
   "outputs": [
    {
     "data": {
      "text/plain": [
       "f    39717\n",
       "Name: initial_list_status, dtype: int64"
      ]
     },
     "execution_count": 1033,
     "metadata": {},
     "output_type": "execute_result"
    }
   ],
   "source": [
    "master_frame['initial_list_status'].value_counts()"
   ]
  },
  {
   "attachments": {},
   "cell_type": "markdown",
   "metadata": {},
   "source": [
    "### Unnecessary columns:\n",
    "\n",
    "##### Customer behavior variables are not available at the time of loan application, and thus they cannot be used as predictors for credit approval.\n",
    "\n",
    "desc: Loan description provided by the borrower. This is a text field contains descirptive data. Processing this is beyond the scope of this assingment. The issued month can be got from the 'issue_d' field.\n",
    "\n",
    "url: the URL does not help with the analysis \n",
    "\n",
    "chargeoff_within_12_mths: 'chargeoff_within_12_mths' only has '0' and null and does not contribute to the analysis.\n",
    "\n",
    "tax_liens: 'tax_liens' only has '0' and null and does not contribute to the analysis.\n",
    "\n",
    "collections_12_mths_ex_med: 'collections_12_mths_ex_meds' only has '0' and null and does not contribute to the analysis.\n",
    "\n",
    "policy_code: Has only value '1'\n",
    "\n",
    "pymnt_plan: has only value 'n'\n",
    "\n",
    "delinq_amnt: has only value '0'\n",
    "\n",
    "acc_now_delinq: has only value '0'\n",
    "\n",
    "application_type: has only type 'INDIVIDUAL'\n",
    "\n",
    "initial_list_status: has only value 'f'\n",
    "\n",
    "title: Has inconsistet text data. It requires to NLP to make it meaningful categories.\n",
    "\n",
    "emp_title: Has inconsistet text data. It requires to NLP to make it meaningful categories.\n",
    "\n",
    "\n",
    "\n",
    "Other customer behavior variables\n",
    "\n",
    "- id \n",
    "- member_id \n",
    "- delinq_2yrs\n",
    "- next_pymnt_d\n",
    "- revol_bal\n",
    "- revol_util\n",
    "- last_pymnt_d\n",
    "- last_pymnt_amnt\n",
    "- last_credit_pull_d\n",
    "- total_pymnt         \n",
    "- total_pymnt_inv     \n",
    "- total_rec_prncp     \n",
    "- total_rec_int       \n",
    "- total_rec_late_fee  \n",
    "- recoveries             \n",
    "- collection_recovery_fee"
   ]
  },
  {
   "cell_type": "code",
   "execution_count": 1034,
   "metadata": {},
   "outputs": [],
   "source": [
    "#dropping the columsn mentioned above\n",
    "drop_list = ['desc','tax_liens','chargeoff_within_12_mths','collections_12_mths_ex_med','url',\n",
    "            'policy_code','pymnt_plan','delinq_amnt','acc_now_delinq','application_type',\n",
    "            'initial_list_status','title','emp_title','id','member_id','delinq_2yrs',\n",
    "            'revol_bal','revol_util','last_pymnt_d','last_pymnt_amnt','last_credit_pull_d',\n",
    "            'total_pymnt','total_pymnt_inv','total_rec_prncp','total_rec_int','total_rec_late_fee',\n",
    "            'recoveries','collection_recovery_fee']\n",
    "master_frame = master_frame.drop(drop_list, axis = 1)"
   ]
  },
  {
   "cell_type": "code",
   "execution_count": 1035,
   "metadata": {},
   "outputs": [
    {
     "data": {
      "text/plain": [
       "(39717, 27)"
      ]
     },
     "execution_count": 1035,
     "metadata": {},
     "output_type": "execute_result"
    }
   ],
   "source": [
    "master_frame.shape"
   ]
  },
  {
   "cell_type": "code",
   "execution_count": 1036,
   "metadata": {},
   "outputs": [
    {
     "data": {
      "text/plain": [
       "emp_length                 2.706650\n",
       "mths_since_last_delinq    64.662487\n",
       "pub_rec_bankruptcies       1.754916\n",
       "dtype: float64"
      ]
     },
     "execution_count": 1036,
     "metadata": {},
     "output_type": "execute_result"
    }
   ],
   "source": [
    "#checking the percent of null after removal of the above columns\n",
    "new_null_percent = master_frame.isnull().sum() * 100 / len(master_frame)\n",
    "new_null_percent[new_null_percent>0]"
   ]
  },
  {
   "cell_type": "code",
   "execution_count": 1037,
   "metadata": {},
   "outputs": [
    {
     "name": "stdout",
     "output_type": "stream",
     "text": [
      "26718\n"
     ]
    }
   ],
   "source": [
    "#number of rows having atleast one NaN value\n",
    "print (master_frame.isna().any(axis=1).sum())"
   ]
  },
  {
   "cell_type": "code",
   "execution_count": 1038,
   "metadata": {
    "scrolled": true
   },
   "outputs": [
    {
     "data": {
      "text/plain": [
       "19828    7.407407\n",
       "15358    7.407407\n",
       "24016    7.407407\n",
       "15389    7.407407\n",
       "4229     7.407407\n",
       "           ...   \n",
       "26539    3.703704\n",
       "26541    3.703704\n",
       "26542    3.703704\n",
       "26545    3.703704\n",
       "0        3.703704\n",
       "Length: 26718, dtype: float64"
      ]
     },
     "execution_count": 1038,
     "metadata": {},
     "output_type": "execute_result"
    }
   ],
   "source": [
    "#Percent of NaN values by row\n",
    "null_count_row = master_frame.isnull().sum(axis = 1)*100/len(master_frame.columns)\n",
    "#null_count_row.sort(reverse = True)\n",
    "#null_count_row.value_counts()\n",
    "null_count_row[null_count_row > 0].sort_values(ascending=False)"
   ]
  },
  {
   "cell_type": "markdown",
   "metadata": {},
   "source": [
    "The percent of null values in each row is less than 10 percent. So we will leave it as is and try to impute the remaining null values for the columns."
   ]
  },
  {
   "cell_type": "markdown",
   "metadata": {},
   "source": [
    "### Unnecessary rows"
   ]
  },
  {
   "cell_type": "code",
   "execution_count": 1039,
   "metadata": {},
   "outputs": [
    {
     "data": {
      "text/plain": [
       "Fully Paid     32950\n",
       "Charged Off     5627\n",
       "Current         1140\n",
       "Name: loan_status, dtype: int64"
      ]
     },
     "execution_count": 1039,
     "metadata": {},
     "output_type": "execute_result"
    }
   ],
   "source": [
    "master_frame.loan_status.value_counts()"
   ]
  },
  {
   "cell_type": "markdown",
   "metadata": {},
   "source": [
    "We don't need rows with loan_status = 'Current' as the borrowers are still paying the loan."
   ]
  },
  {
   "cell_type": "code",
   "execution_count": 1040,
   "metadata": {},
   "outputs": [],
   "source": [
    "master_frame = master_frame[master_frame.loan_status != 'Current']"
   ]
  },
  {
   "cell_type": "code",
   "execution_count": 1041,
   "metadata": {},
   "outputs": [
    {
     "data": {
      "text/plain": [
       "emp_length                 2.677761\n",
       "mths_since_last_delinq    64.559193\n",
       "pub_rec_bankruptcies       1.806776\n",
       "dtype: float64"
      ]
     },
     "execution_count": 1041,
     "metadata": {},
     "output_type": "execute_result"
    }
   ],
   "source": [
    "#checking the percent of null after removal of the above columns\n",
    "new_null_percent = master_frame.isnull().sum() * 100 / len(master_frame)\n",
    "new_null_percent[new_null_percent>0]"
   ]
  },
  {
   "cell_type": "markdown",
   "metadata": {},
   "source": [
    "mths_since_last_delinq still has a considerable amount of null values. Imputing the columns will not give any meaning full information. So we can drop it."
   ]
  },
  {
   "cell_type": "code",
   "execution_count": 1042,
   "metadata": {},
   "outputs": [],
   "source": [
    "master_frame = master_frame.drop(['mths_since_last_delinq'], axis = 1)"
   ]
  },
  {
   "cell_type": "code",
   "execution_count": 1043,
   "metadata": {},
   "outputs": [
    {
     "data": {
      "text/html": [
       "<div>\n",
       "<style scoped>\n",
       "    .dataframe tbody tr th:only-of-type {\n",
       "        vertical-align: middle;\n",
       "    }\n",
       "\n",
       "    .dataframe tbody tr th {\n",
       "        vertical-align: top;\n",
       "    }\n",
       "\n",
       "    .dataframe thead th {\n",
       "        text-align: right;\n",
       "    }\n",
       "</style>\n",
       "<table border=\"1\" class=\"dataframe\">\n",
       "  <thead>\n",
       "    <tr style=\"text-align: right;\">\n",
       "      <th></th>\n",
       "      <th>column</th>\n",
       "      <th>unique_count</th>\n",
       "    </tr>\n",
       "  </thead>\n",
       "  <tbody>\n",
       "    <tr>\n",
       "      <th>23</th>\n",
       "      <td>out_prncp</td>\n",
       "      <td>1</td>\n",
       "    </tr>\n",
       "    <tr>\n",
       "      <th>24</th>\n",
       "      <td>out_prncp_inv</td>\n",
       "      <td>1</td>\n",
       "    </tr>\n",
       "    <tr>\n",
       "      <th>3</th>\n",
       "      <td>term</td>\n",
       "      <td>2</td>\n",
       "    </tr>\n",
       "    <tr>\n",
       "      <th>13</th>\n",
       "      <td>loan_status</td>\n",
       "      <td>2</td>\n",
       "    </tr>\n",
       "    <tr>\n",
       "      <th>11</th>\n",
       "      <td>verification_status</td>\n",
       "      <td>3</td>\n",
       "    </tr>\n",
       "    <tr>\n",
       "      <th>25</th>\n",
       "      <td>pub_rec_bankruptcies</td>\n",
       "      <td>4</td>\n",
       "    </tr>\n",
       "    <tr>\n",
       "      <th>21</th>\n",
       "      <td>pub_rec</td>\n",
       "      <td>5</td>\n",
       "    </tr>\n",
       "    <tr>\n",
       "      <th>9</th>\n",
       "      <td>home_ownership</td>\n",
       "      <td>5</td>\n",
       "    </tr>\n",
       "    <tr>\n",
       "      <th>6</th>\n",
       "      <td>grade</td>\n",
       "      <td>7</td>\n",
       "    </tr>\n",
       "    <tr>\n",
       "      <th>19</th>\n",
       "      <td>inq_last_6mths</td>\n",
       "      <td>9</td>\n",
       "    </tr>\n",
       "    <tr>\n",
       "      <th>8</th>\n",
       "      <td>emp_length</td>\n",
       "      <td>12</td>\n",
       "    </tr>\n",
       "    <tr>\n",
       "      <th>14</th>\n",
       "      <td>purpose</td>\n",
       "      <td>14</td>\n",
       "    </tr>\n",
       "    <tr>\n",
       "      <th>7</th>\n",
       "      <td>sub_grade</td>\n",
       "      <td>35</td>\n",
       "    </tr>\n",
       "    <tr>\n",
       "      <th>20</th>\n",
       "      <td>open_acc</td>\n",
       "      <td>40</td>\n",
       "    </tr>\n",
       "    <tr>\n",
       "      <th>16</th>\n",
       "      <td>addr_state</td>\n",
       "      <td>50</td>\n",
       "    </tr>\n",
       "    <tr>\n",
       "      <th>12</th>\n",
       "      <td>issue_d</td>\n",
       "      <td>55</td>\n",
       "    </tr>\n",
       "    <tr>\n",
       "      <th>22</th>\n",
       "      <td>total_acc</td>\n",
       "      <td>82</td>\n",
       "    </tr>\n",
       "    <tr>\n",
       "      <th>4</th>\n",
       "      <td>int_rate</td>\n",
       "      <td>370</td>\n",
       "    </tr>\n",
       "    <tr>\n",
       "      <th>18</th>\n",
       "      <td>earliest_cr_line</td>\n",
       "      <td>524</td>\n",
       "    </tr>\n",
       "  </tbody>\n",
       "</table>\n",
       "</div>"
      ],
      "text/plain": [
       "                  column  unique_count\n",
       "23             out_prncp             1\n",
       "24         out_prncp_inv             1\n",
       "3                   term             2\n",
       "13           loan_status             2\n",
       "11   verification_status             3\n",
       "25  pub_rec_bankruptcies             4\n",
       "21               pub_rec             5\n",
       "9         home_ownership             5\n",
       "6                  grade             7\n",
       "19        inq_last_6mths             9\n",
       "8             emp_length            12\n",
       "14               purpose            14\n",
       "7              sub_grade            35\n",
       "20              open_acc            40\n",
       "16            addr_state            50\n",
       "12               issue_d            55\n",
       "22             total_acc            82\n",
       "4               int_rate           370\n",
       "18      earliest_cr_line           524"
      ]
     },
     "execution_count": 1043,
     "metadata": {},
     "output_type": "execute_result"
    }
   ],
   "source": [
    "#Finding number of unique values in each column. We can remove columns that have 1 value as it\n",
    "#doesn't affect our analysis\n",
    "col_count = []\n",
    "for col in master_frame.columns.tolist():\n",
    "    col_count.append({'column': col, 'unique_count': len(master_frame[col].unique())})\n",
    "unique = pd.DataFrame(col_count).sort_values('unique_count')\n",
    "unique.head(19)"
   ]
  },
  {
   "cell_type": "code",
   "execution_count": 1044,
   "metadata": {},
   "outputs": [
    {
     "data": {
      "text/plain": [
       "0    38577\n",
       "Name: out_prncp, dtype: int64"
      ]
     },
     "execution_count": 1044,
     "metadata": {},
     "output_type": "execute_result"
    }
   ],
   "source": [
    "master_frame.out_prncp.value_counts()"
   ]
  },
  {
   "cell_type": "code",
   "execution_count": 1045,
   "metadata": {},
   "outputs": [
    {
     "data": {
      "text/plain": [
       "0    38577\n",
       "Name: out_prncp_inv, dtype: int64"
      ]
     },
     "execution_count": 1045,
     "metadata": {},
     "output_type": "execute_result"
    }
   ],
   "source": [
    "master_frame.out_prncp_inv.value_counts()"
   ]
  },
  {
   "cell_type": "code",
   "execution_count": 1046,
   "metadata": {},
   "outputs": [],
   "source": [
    "#delete the above two columns as they contain only 1 value ('0') after deleting \"Current\" loan_status\n",
    "master_frame = master_frame.drop(['out_prncp','out_prncp_inv'], axis = 1)"
   ]
  },
  {
   "cell_type": "markdown",
   "metadata": {},
   "source": [
    "### Imputing/cleaning the columns for format,type  and missing values "
   ]
  },
  {
   "cell_type": "code",
   "execution_count": 1047,
   "metadata": {},
   "outputs": [
    {
     "data": {
      "text/plain": [
       "emp_length              2.677761\n",
       "pub_rec_bankruptcies    1.806776\n",
       "dtype: float64"
      ]
     },
     "execution_count": 1047,
     "metadata": {},
     "output_type": "execute_result"
    }
   ],
   "source": [
    "#checking the percent of null after removal of the above columns and rows\n",
    "new_null_percent = master_frame.isnull().sum() * 100 / len(master_frame)\n",
    "new_null_percent[new_null_percent>0]"
   ]
  },
  {
   "cell_type": "code",
   "execution_count": 1048,
   "metadata": {},
   "outputs": [
    {
     "data": {
      "text/plain": [
       "10+ years    8488\n",
       "< 1 year     4508\n",
       "2 years      4291\n",
       "3 years      4012\n",
       "4 years      3342\n",
       "5 years      3194\n",
       "1 year       3169\n",
       "6 years      2168\n",
       "7 years      1711\n",
       "8 years      1435\n",
       "9 years      1226\n",
       "Name: emp_length, dtype: int64"
      ]
     },
     "execution_count": 1048,
     "metadata": {},
     "output_type": "execute_result"
    }
   ],
   "source": [
    "master_frame.emp_length.value_counts()"
   ]
  },
  {
   "cell_type": "code",
   "execution_count": 1049,
   "metadata": {},
   "outputs": [
    {
     "data": {
      "text/plain": [
       "1033"
      ]
     },
     "execution_count": 1049,
     "metadata": {},
     "output_type": "execute_result"
    }
   ],
   "source": [
    "master_frame.emp_length.isna().sum()"
   ]
  },
  {
   "cell_type": "code",
   "execution_count": 1050,
   "metadata": {},
   "outputs": [],
   "source": [
    "# remove the 'years' from the employement length and make it numeric\n",
    "#del master_frame['emp_len_yrs']\n",
    "master_frame['emp_len_yrs'] = master_frame.emp_length.str.rstrip('years ')\n",
    "master_frame['emp_len_yrs'][master_frame['emp_len_yrs'] == '10+'] = '10' \n",
    "master_frame['emp_len_yrs'][master_frame['emp_len_yrs'] == '< 1'] = '1' \n",
    "#We will make Na entires as it's own category => 0\n",
    "master_frame['emp_len_yrs'][master_frame['emp_len_yrs'].isna()] = '0' \n",
    "master_frame.emp_len_yrs = master_frame.emp_len_yrs.apply(int)\n",
    "del master_frame['emp_length']"
   ]
  },
  {
   "cell_type": "code",
   "execution_count": 1051,
   "metadata": {},
   "outputs": [
    {
     "data": {
      "text/plain": [
       "10    8488\n",
       "1     7677\n",
       "2     4291\n",
       "3     4012\n",
       "4     3342\n",
       "5     3194\n",
       "6     2168\n",
       "7     1711\n",
       "8     1435\n",
       "9     1226\n",
       "0     1033\n",
       "Name: emp_len_yrs, dtype: int64"
      ]
     },
     "execution_count": 1051,
     "metadata": {},
     "output_type": "execute_result"
    }
   ],
   "source": [
    "master_frame.emp_len_yrs.value_counts()"
   ]
  },
  {
   "cell_type": "code",
   "execution_count": 1053,
   "metadata": {},
   "outputs": [],
   "source": [
    "#Make the following columns numeric\n",
    "int_col = ['total_acc']\n",
    "float_col = ['loan_amnt','funded_amnt','funded_amnt_inv','installment',\n",
    "             'annual_inc']\n",
    "master_frame[float_col] = master_frame[float_col].apply(lambda x: x.astype(float))\n",
    "master_frame[int_col] = master_frame[int_col].apply(lambda x: x.astype('int64'))"
   ]
  },
  {
   "cell_type": "code",
   "execution_count": 1054,
   "metadata": {},
   "outputs": [
    {
     "name": "stdout",
     "output_type": "stream",
     "text": [
      "number of unique months:  12\n",
      "number of unique years:  5\n"
     ]
    }
   ],
   "source": [
    "#split issue_d field to month and year.\n",
    "master_frame['issue_d_mnth'] = master_frame.issue_d.apply(lambda x: x.split('-')[0])\n",
    "print('number of unique months: ',len(master_frame.issue_d_mnth.value_counts()))\n",
    "master_frame['issue_d_year'] = master_frame.issue_d.apply(lambda x: '20' + x.split('-')[1])\n",
    "print('number of unique years: ',len(master_frame.issue_d_year.value_counts()))\n",
    "del master_frame['issue_d']"
   ]
  },
  {
   "cell_type": "code",
   "execution_count": 1055,
   "metadata": {},
   "outputs": [
    {
     "data": {
      "text/plain": [
       "2011    20516\n",
       "2010    11532\n",
       "2009     4716\n",
       "2008     1562\n",
       "2007      251\n",
       "Name: issue_d_year, dtype: int64"
      ]
     },
     "execution_count": 1055,
     "metadata": {},
     "output_type": "execute_result"
    }
   ],
   "source": [
    "master_frame.issue_d_year.value_counts()"
   ]
  },
  {
   "cell_type": "code",
   "execution_count": 1056,
   "metadata": {},
   "outputs": [
    {
     "name": "stdout",
     "output_type": "stream",
     "text": [
      "max in DTI:  9.99\n",
      "min in DTI:  0\n"
     ]
    }
   ],
   "source": [
    "print('max in DTI: ',master_frame.dti.max())\n",
    "print('min in DTI: ',master_frame.dti.min())"
   ]
  },
  {
   "cell_type": "code",
   "execution_count": 1057,
   "metadata": {},
   "outputs": [],
   "source": [
    "#DTI: convert to numeric and perform binning\n",
    "'''\n",
    "0   - 5      => 5   \n",
    ">5  - 10     => 10\n",
    ">10 - 15     => 15\n",
    ">15 - 20     => 20\n",
    ">20 - 25     => 25\n",
    ">25 - 30     => 30\n",
    "\n",
    "We'll stop at 30 because 29.99 is the max value.\n",
    "\n",
    "NOTE: lower DTI is better.\n",
    "'''\n",
    "master_frame.dti = master_frame.dti.apply(float)\n",
    "master_frame['dti_range'] =master_frame['dti']\n",
    "#Ignoring the SettingWithCopyWarning.\n",
    "with pd.option_context('mode.chained_assignment', None):\n",
    "    master_frame['dti_range'][(master_frame['dti_range'] <= 5)] = 5\n",
    "    master_frame['dti_range'][(master_frame['dti_range'] > 5) & (master_frame['dti_range'] <= 10)] = 10\n",
    "    master_frame['dti_range'][(master_frame['dti_range'] > 10) & (master_frame['dti_range'] <= 15)] = 15\n",
    "    master_frame['dti_range'][(master_frame['dti_range'] > 15) & (master_frame['dti_range'] <= 20)] = 20\n",
    "    master_frame['dti_range'][(master_frame['dti_range'] > 20) & (master_frame['dti_range'] <= 25)] = 25\n",
    "    master_frame['dti_range'][(master_frame['dti_range'] > 25) & (master_frame['dti_range'] <= 30)] = 30\n",
    "del master_frame['dti']\n",
    "master_frame.dti_range = master_frame.dti_range.apply(int)"
   ]
  },
  {
   "cell_type": "code",
   "execution_count": 1058,
   "metadata": {},
   "outputs": [
    {
     "name": "stdout",
     "output_type": "stream",
     "text": [
      "number of unique months:  12\n",
      "number of unique years:  53\n"
     ]
    }
   ],
   "source": [
    "#split earliest_cr_line field to month and year.\n",
    "master_frame['earliest_cr_line_mnth'] = master_frame.earliest_cr_line.apply(lambda x: x.split('-')[0])\n",
    "print('number of unique months: ',len(master_frame.earliest_cr_line_mnth.value_counts()))\n",
    "master_frame['earliest_cr_line_year'] = master_frame.earliest_cr_line.apply(lambda x: x.split('-')[1])\n",
    "print('number of unique years: ',len(master_frame.earliest_cr_line_year.value_counts()))\n",
    "del master_frame['earliest_cr_line']"
   ]
  },
  {
   "cell_type": "code",
   "execution_count": 1059,
   "metadata": {},
   "outputs": [],
   "source": [
    "master_frame['int_rate_percent'] = master_frame['int_rate'].str.rstrip('%')\n",
    "master_frame.int_rate_percent = master_frame.int_rate_percent.apply(float)\n",
    "del master_frame['int_rate']"
   ]
  },
  {
   "cell_type": "code",
   "execution_count": 1060,
   "metadata": {},
   "outputs": [
    {
     "data": {
      "text/plain": [
       "loan_amnt                float64\n",
       "funded_amnt              float64\n",
       "funded_amnt_inv          float64\n",
       "term                      object\n",
       "installment              float64\n",
       "grade                     object\n",
       "sub_grade                 object\n",
       "home_ownership            object\n",
       "annual_inc               float64\n",
       "verification_status       object\n",
       "loan_status               object\n",
       "purpose                   object\n",
       "zip_code                  object\n",
       "addr_state                object\n",
       "inq_last_6mths            object\n",
       "open_acc                  object\n",
       "pub_rec                   object\n",
       "total_acc                  int64\n",
       "pub_rec_bankruptcies      object\n",
       "emp_len_yrs                int64\n",
       "issue_d_mnth              object\n",
       "issue_d_year              object\n",
       "dti_range                  int64\n",
       "earliest_cr_line_mnth     object\n",
       "earliest_cr_line_year     object\n",
       "int_rate_percent         float64\n",
       "dtype: object"
      ]
     },
     "execution_count": 1060,
     "metadata": {},
     "output_type": "execute_result"
    }
   ],
   "source": [
    "master_frame.dtypes"
   ]
  },
  {
   "cell_type": "code",
   "execution_count": 1061,
   "metadata": {},
   "outputs": [
    {
     "data": {
      "text/plain": [
       "pub_rec_bankruptcies    1.806776\n",
       "dtype: float64"
      ]
     },
     "execution_count": 1061,
     "metadata": {},
     "output_type": "execute_result"
    }
   ],
   "source": [
    "#checking the percent of null after removal of the above columns and rows\n",
    "new_null_percent = master_frame.isnull().sum() * 100 / len(master_frame)\n",
    "new_null_percent[new_null_percent>0]"
   ]
  },
  {
   "cell_type": "code",
   "execution_count": 1062,
   "metadata": {},
   "outputs": [
    {
     "data": {
      "text/plain": [
       "count     37880\n",
       "unique        3\n",
       "top           0\n",
       "freq      36238\n",
       "Name: pub_rec_bankruptcies, dtype: object"
      ]
     },
     "execution_count": 1062,
     "metadata": {},
     "output_type": "execute_result"
    }
   ],
   "source": [
    "#checking the most frequently occuring value\n",
    "master_frame.pub_rec_bankruptcies.describe()"
   ]
  },
  {
   "cell_type": "code",
   "execution_count": 1063,
   "metadata": {},
   "outputs": [],
   "source": [
    "#most of the pub_rec are 0 so we can fill the missing values with this.\n",
    "master_frame['pub_rec_bankruptcies'] = master_frame['pub_rec_bankruptcies'].fillna(0)"
   ]
  },
  {
   "cell_type": "code",
   "execution_count": 1064,
   "metadata": {},
   "outputs": [
    {
     "data": {
      "text/plain": [
       "Series([], dtype: float64)"
      ]
     },
     "execution_count": 1064,
     "metadata": {},
     "output_type": "execute_result"
    }
   ],
   "source": [
    "#checking the percent of null after removal of the above columns and rows\n",
    "new_null_percent = master_frame.isnull().sum() * 100 / len(master_frame)\n",
    "new_null_percent[new_null_percent>0]"
   ]
  },
  {
   "cell_type": "code",
   "execution_count": 1065,
   "metadata": {},
   "outputs": [
    {
     "data": {
      "text/plain": [
       "Index(['loan_amnt', 'funded_amnt', 'funded_amnt_inv', 'term', 'installment',\n",
       "       'grade', 'sub_grade', 'home_ownership', 'annual_inc',\n",
       "       'verification_status', 'loan_status', 'purpose', 'zip_code',\n",
       "       'addr_state', 'inq_last_6mths', 'open_acc', 'pub_rec', 'total_acc',\n",
       "       'pub_rec_bankruptcies', 'emp_len_yrs', 'issue_d_mnth', 'issue_d_year',\n",
       "       'dti_range', 'earliest_cr_line_mnth', 'earliest_cr_line_year',\n",
       "       'int_rate_percent'],\n",
       "      dtype='object')"
      ]
     },
     "execution_count": 1065,
     "metadata": {},
     "output_type": "execute_result"
    }
   ],
   "source": [
    "master_frame.columns"
   ]
  },
  {
   "cell_type": "markdown",
   "metadata": {},
   "source": [
    "## Data Analysis"
   ]
  },
  {
   "cell_type": "code",
   "execution_count": 1066,
   "metadata": {},
   "outputs": [
    {
     "data": {
      "text/plain": [
       "loan_amnt                float64\n",
       "funded_amnt              float64\n",
       "funded_amnt_inv          float64\n",
       "term                      object\n",
       "installment              float64\n",
       "grade                     object\n",
       "sub_grade                 object\n",
       "home_ownership            object\n",
       "annual_inc               float64\n",
       "verification_status       object\n",
       "loan_status               object\n",
       "purpose                   object\n",
       "zip_code                  object\n",
       "addr_state                object\n",
       "inq_last_6mths            object\n",
       "open_acc                  object\n",
       "pub_rec                   object\n",
       "total_acc                  int64\n",
       "pub_rec_bankruptcies      object\n",
       "emp_len_yrs                int64\n",
       "issue_d_mnth              object\n",
       "issue_d_year              object\n",
       "dti_range                  int64\n",
       "earliest_cr_line_mnth     object\n",
       "earliest_cr_line_year     object\n",
       "int_rate_percent         float64\n",
       "dtype: object"
      ]
     },
     "execution_count": 1066,
     "metadata": {},
     "output_type": "execute_result"
    }
   ],
   "source": [
    "master_frame.dtypes"
   ]
  },
  {
   "cell_type": "code",
   "execution_count": 1067,
   "metadata": {},
   "outputs": [
    {
     "data": {
      "image/png": "[encoded data removed]",
      "text/plain": [
       "<Figure size 432x288 with 1 Axes>"
      ]
     },
     "metadata": {
      "needs_background": "light"
     },
     "output_type": "display_data"
    }
   ],
   "source": [
    "plt.boxplot(master_frame.loan_amnt)\n",
    "plt.show()"
   ]
  },
  {
   "cell_type": "code",
   "execution_count": 1068,
   "metadata": {},
   "outputs": [
    {
     "data": {
      "text/plain": [
       "<AxesSubplot:xlabel='loan_amnt', ylabel='Density'>"
      ]
     },
     "execution_count": 1068,
     "metadata": {},
     "output_type": "execute_result"
    },
    {
     "data": {
      "image/png": "[encoded data removed]",
      "text/plain": [
       "<Figure size 432x288 with 1 Axes>"
      ]
     },
     "metadata": {
      "needs_background": "light"
     },
     "output_type": "display_data"
    }
   ],
   "source": [
    "warnings.filterwarnings(\"ignore\")\n",
    "sns.distplot(master_frame.loan_amnt)"
   ]
  },
  {
   "cell_type": "markdown",
   "metadata": {},
   "source": [
    "All loan amounts lie between 0 and 35000 and the median is 10000."
   ]
  },
  {
   "cell_type": "code",
   "execution_count": 1069,
   "metadata": {},
   "outputs": [
    {
     "data": {
      "image/png": "[encoded data removed]",
      "text/plain": [
       "<Figure size 432x288 with 1 Axes>"
      ]
     },
     "metadata": {
      "needs_background": "light"
     },
     "output_type": "display_data"
    }
   ],
   "source": [
    "plt.boxplot(master_frame.funded_amnt)\n",
    "plt.show()"
   ]
  },
  {
   "cell_type": "code",
   "execution_count": 1070,
   "metadata": {},
   "outputs": [
    {
     "data": {
      "text/plain": [
       "<AxesSubplot:xlabel='funded_amnt', ylabel='Density'>"
      ]
     },
     "execution_count": 1070,
     "metadata": {},
     "output_type": "execute_result"
    },
    {
     "data": {
      "image/png": "[encoded data removed]",
      "text/plain": [
       "<Figure size 432x288 with 1 Axes>"
      ]
     },
     "metadata": {
      "needs_background": "light"
     },
     "output_type": "display_data"
    }
   ],
   "source": [
    "warnings.filterwarnings(\"ignore\")\n",
    "sns.distplot(master_frame.funded_amnt)"
   ]
  },
  {
   "cell_type": "code",
   "execution_count": 1071,
   "metadata": {},
   "outputs": [
    {
     "data": {
      "image/png": "[encoded data removed]",
      "text/plain": [
       "<Figure size 432x288 with 1 Axes>"
      ]
     },
     "metadata": {
      "needs_background": "light"
     },
     "output_type": "display_data"
    }
   ],
   "source": [
    "plt.boxplot(master_frame.funded_amnt_inv)\n",
    "plt.show()"
   ]
  },
  {
   "cell_type": "code",
   "execution_count": 1072,
   "metadata": {},
   "outputs": [
    {
     "data": {
      "text/plain": [
       "<AxesSubplot:xlabel='funded_amnt', ylabel='Density'>"
      ]
     },
     "execution_count": 1072,
     "metadata": {},
     "output_type": "execute_result"
    },
    {
     "data": {
      "image/png": "[encoded data removed]",
      "text/plain": [
       "<Figure size 432x288 with 1 Axes>"
      ]
     },
     "metadata": {
      "needs_background": "light"
     },
     "output_type": "display_data"
    }
   ],
   "source": [
    "warnings.filterwarnings(\"ignore\")\n",
    "sns.distplot(master_frame.funded_amnt)"
   ]
  },
  {
   "cell_type": "markdown",
   "metadata": {},
   "source": [
    "#### ==> loan_amnt, funded_amnt, and funded_amnt_inv seem to have similar distribution."
   ]
  },
  {
   "cell_type": "code",
   "execution_count": 1073,
   "metadata": {},
   "outputs": [
    {
     "data": {
      "text/plain": [
       "<AxesSubplot:xlabel='int_rate_percent', ylabel='Density'>"
      ]
     },
     "execution_count": 1073,
     "metadata": {},
     "output_type": "execute_result"
    },
    {
     "data": {
      "image/png": "[encoded data removed]",
      "text/plain": [
       "<Figure size 432x288 with 1 Axes>"
      ]
     },
     "metadata": {
      "needs_background": "light"
     },
     "output_type": "display_data"
    }
   ],
   "source": [
    "warnings.filterwarnings(\"ignore\")\n",
    "sns.distplot(master_frame.int_rate_percent)"
   ]
  },
  {
   "cell_type": "code",
   "execution_count": 1074,
   "metadata": {},
   "outputs": [
    {
     "data": {
      "image/png": "[encoded data removed]",
      "text/plain": [
       "<Figure size 720x720 with 2 Axes>"
      ]
     },
     "metadata": {
      "needs_background": "light"
     },
     "output_type": "display_data"
    }
   ],
   "source": [
    "plt.figure(figsize=(10,10))\n",
    "sns.heatmap(master_frame.corr())\n",
    "plt.show()"
   ]
  },
  {
   "cell_type": "code",
   "execution_count": null,
   "metadata": {},
   "outputs": [],
   "source": []
  }
 ],
 "metadata": {
  "kernelspec": {
   "display_name": "Python 3",
   "language": "python",
   "name": "python3"
  },
  "language_info": {
   "codemirror_mode": {
    "name": "ipython",
    "version": 3
   },
   "file_extension": ".py",
   "mimetype": "text/x-python",
   "name": "python",
   "nbconvert_exporter": "python",
   "pygments_lexer": "ipython3",
   "version": "3.8.5"
  }
 },
 "nbformat": 4,
 "nbformat_minor": 5
}
